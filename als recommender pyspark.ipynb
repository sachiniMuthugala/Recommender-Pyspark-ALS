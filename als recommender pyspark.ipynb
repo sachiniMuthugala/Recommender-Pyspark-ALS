{
 "cells": [
  {
   "cell_type": "code",
   "execution_count": 1,
   "metadata": {},
   "outputs": [],
   "source": [
    "import pandas as pd\n",
    "from pyspark.sql.functions import col, explode\n",
    "from pyspark import SparkContext\n",
    "from pyspark.sql import SparkSession"
   ]
  },
  {
   "cell_type": "code",
   "execution_count": 2,
   "metadata": {},
   "outputs": [],
   "source": [
    "sc = SparkContext\n",
    "# sc.setCheckpointDir('checkpoint')\n",
    "spark = SparkSession.builder.appName('Recommendations').getOrCreate()"
   ]
  },
  {
   "cell_type": "code",
   "execution_count": 3,
   "metadata": {},
   "outputs": [],
   "source": [
    "# read the data using spark\n",
    "movies = spark.read.csv('/Users/sachinim/Documents/Projects/als-recommender-pyspark/movies.csv', header=True)\n",
    "ratings = spark.read.csv('/Users/sachinim/Documents/Projects/als-recommender-pyspark/ratings.csv', header=True)"
   ]
  },
  {
   "cell_type": "code",
   "execution_count": 4,
   "metadata": {},
   "outputs": [
    {
     "name": "stdout",
     "output_type": "stream",
     "text": [
      "+------+-------+------+---------+\n",
      "|userId|movieId|rating|timestamp|\n",
      "+------+-------+------+---------+\n",
      "|     1|      1|   4.0|964982703|\n",
      "|     1|      3|   4.0|964981247|\n",
      "|     1|      6|   4.0|964982224|\n",
      "|     1|     47|   5.0|964983815|\n",
      "|     1|     50|   5.0|964982931|\n",
      "|     1|     70|   3.0|964982400|\n",
      "|     1|    101|   5.0|964980868|\n",
      "|     1|    110|   4.0|964982176|\n",
      "|     1|    151|   5.0|964984041|\n",
      "|     1|    157|   5.0|964984100|\n",
      "+------+-------+------+---------+\n",
      "only showing top 10 rows\n",
      "\n"
     ]
    }
   ],
   "source": [
    "ratings.show(10)"
   ]
  },
  {
   "cell_type": "code",
   "execution_count": 5,
   "metadata": {},
   "outputs": [
    {
     "name": "stdout",
     "output_type": "stream",
     "text": [
      "+-------+--------------------+--------------------+\n",
      "|movieId|               title|              genres|\n",
      "+-------+--------------------+--------------------+\n",
      "|      1|    Toy Story (1995)|Adventure|Animati...|\n",
      "|      2|      Jumanji (1995)|Adventure|Childre...|\n",
      "|      3|Grumpier Old Men ...|      Comedy|Romance|\n",
      "|      4|Waiting to Exhale...|Comedy|Drama|Romance|\n",
      "|      5|Father of the Bri...|              Comedy|\n",
      "|      6|         Heat (1995)|Action|Crime|Thri...|\n",
      "|      7|      Sabrina (1995)|      Comedy|Romance|\n",
      "|      8| Tom and Huck (1995)|  Adventure|Children|\n",
      "|      9| Sudden Death (1995)|              Action|\n",
      "|     10|    GoldenEye (1995)|Action|Adventure|...|\n",
      "+-------+--------------------+--------------------+\n",
      "only showing top 10 rows\n",
      "\n"
     ]
    }
   ],
   "source": [
    "movies.show(10)"
   ]
  },
  {
   "cell_type": "code",
   "execution_count": 6,
   "metadata": {},
   "outputs": [
    {
     "name": "stdout",
     "output_type": "stream",
     "text": [
      "root\n",
      " |-- userId: string (nullable = true)\n",
      " |-- movieId: string (nullable = true)\n",
      " |-- rating: string (nullable = true)\n",
      " |-- timestamp: string (nullable = true)\n",
      "\n"
     ]
    }
   ],
   "source": [
    "# print out the schema in the tree format\n",
    "ratings.printSchema()"
   ]
  },
  {
   "cell_type": "code",
   "execution_count": 7,
   "metadata": {},
   "outputs": [
    {
     "name": "stdout",
     "output_type": "stream",
     "text": [
      "+------+-------+------+\n",
      "|userId|movieId|rating|\n",
      "+------+-------+------+\n",
      "|     1|      1|   4.0|\n",
      "|     1|      3|   4.0|\n",
      "|     1|      6|   4.0|\n",
      "|     1|     47|   5.0|\n",
      "|     1|     50|   5.0|\n",
      "|     1|     70|   3.0|\n",
      "|     1|    101|   5.0|\n",
      "|     1|    110|   4.0|\n",
      "|     1|    151|   5.0|\n",
      "|     1|    157|   5.0|\n",
      "|     1|    163|   5.0|\n",
      "|     1|    216|   5.0|\n",
      "|     1|    223|   3.0|\n",
      "|     1|    231|   5.0|\n",
      "|     1|    235|   4.0|\n",
      "|     1|    260|   5.0|\n",
      "|     1|    296|   3.0|\n",
      "|     1|    316|   3.0|\n",
      "|     1|    333|   5.0|\n",
      "|     1|    349|   4.0|\n",
      "+------+-------+------+\n",
      "only showing top 20 rows\n",
      "\n"
     ]
    }
   ],
   "source": [
    "# Convert the data types of Ids and rating values Strings to Integer \n",
    "# drop the unwanted column Time stamp\n",
    "ratings = ratings.\\\n",
    "    withColumn('userId', col('userId').cast('Integer')).\\\n",
    "    withColumn('movieId', col('movieId').cast('Integer')).\\\n",
    "    withColumn('rating', col('rating').cast('float')).\\\n",
    "    drop('timestamp')\n",
    "ratings.show()"
   ]
  },
  {
   "cell_type": "code",
   "execution_count": 8,
   "metadata": {},
   "outputs": [
    {
     "name": "stdout",
     "output_type": "stream",
     "text": [
      "root\n",
      " |-- userId: integer (nullable = true)\n",
      " |-- movieId: integer (nullable = true)\n",
      " |-- rating: float (nullable = true)\n",
      "\n"
     ]
    }
   ],
   "source": [
    "ratings.printSchema()"
   ]
  },
  {
   "cell_type": "code",
   "execution_count": 9,
   "metadata": {},
   "outputs": [
    {
     "name": "stdout",
     "output_type": "stream",
     "text": [
      "The ratings dataframe is  98.30% empty.\n"
     ]
    }
   ],
   "source": [
    "# Calculate Sparsity\n",
    "\n",
    "# Get the number of ratings\n",
    "numerator = ratings.select('rating').count()\n",
    "\n",
    "# Number of distinct UserIds\n",
    "dis_users = ratings.select('userId').distinct().count()\n",
    "\n",
    "# Number of distinct MovieIds\n",
    "dis_movie = ratings.select('movieId').distinct().count()\n",
    "\n",
    "# denominator equals to number of users multiplied by number of movies\n",
    "denominator = dis_users * dis_movie\n",
    "\n",
    "# Divide numerator by the denominator\n",
    "sparsity = (1.0 - (numerator *1.0)/denominator)*100\n",
    "print(\"The ratings dataframe is \", \"%.2f\" % sparsity + \"% empty.\")"
   ]
  },
  {
   "cell_type": "code",
   "execution_count": 10,
   "metadata": {},
   "outputs": [
    {
     "name": "stdout",
     "output_type": "stream",
     "text": [
      "+------+-----+\n",
      "|userId|count|\n",
      "+------+-----+\n",
      "|   576|   20|\n",
      "|   569|   20|\n",
      "|   320|   20|\n",
      "|   595|   20|\n",
      "|   189|   20|\n",
      "|   194|   20|\n",
      "|   207|   20|\n",
      "|   257|   20|\n",
      "|   278|   20|\n",
      "|   406|   20|\n",
      "|   442|   20|\n",
      "|   431|   20|\n",
      "|    53|   20|\n",
      "|   147|   20|\n",
      "|   157|   21|\n",
      "|    87|   21|\n",
      "|   324|   21|\n",
      "|    37|   21|\n",
      "|   598|   21|\n",
      "|    26|   21|\n",
      "+------+-----+\n",
      "only showing top 20 rows\n",
      "\n"
     ]
    }
   ],
   "source": [
    "# Interpret ratings\n",
    "\n",
    "#Grouping the data by userId and number of ratings\n",
    "userId_ratings = ratings.groupBy('userId').count().orderBy('count',acending=False)\n",
    "userId_ratings.show()"
   ]
  },
  {
   "cell_type": "code",
   "execution_count": 11,
   "metadata": {},
   "outputs": [
    {
     "name": "stdout",
     "output_type": "stream",
     "text": [
      "+-------+-----+\n",
      "|movieId|count|\n",
      "+-------+-----+\n",
      "|  56022|    1|\n",
      "|  87028|    1|\n",
      "|  71468|    1|\n",
      "| 185435|    1|\n",
      "|    243|    1|\n",
      "|   1990|    1|\n",
      "|  45183|    1|\n",
      "|   5614|    1|\n",
      "|   1507|    1|\n",
      "| 100068|    1|\n",
      "+-------+-----+\n",
      "only showing top 10 rows\n",
      "\n"
     ]
    }
   ],
   "source": [
    "# grouping the data by movieId and number of ratings\n",
    "\n",
    "movieId_ratings = ratings.groupBy('movieId').count().orderBy('count',acending=False)\n",
    "movieId_ratings.show(10)"
   ]
  },
  {
   "cell_type": "code",
   "execution_count": 12,
   "metadata": {},
   "outputs": [],
   "source": [
    "# Build out an ALS Model\n",
    "from pyspark.ml.evaluation import RegressionEvaluator\n",
    "from pyspark.ml.recommendation import ALS\n",
    "from pyspark.ml.tuning import ParamGridBuilder, CrossValidator"
   ]
  },
  {
   "cell_type": "code",
   "execution_count": 13,
   "metadata": {},
   "outputs": [
    {
     "data": {
      "text/plain": [
       "pyspark.ml.recommendation.ALS"
      ]
     },
     "execution_count": 13,
     "metadata": {},
     "output_type": "execute_result"
    }
   ],
   "source": [
    "# Creating testing and training datasets\n",
    "\n",
    "# train--> 80% test--> 20%\n",
    "(train,test) = ratings.randomSplit([0.8,0.2], seed=1234)\n",
    "\n",
    "# create ALS model\n",
    "als = ALS(userCol='userId', itemCol='movieId', ratingCol='rating',nonnegative=True, implicitPrefs = False, coldStartStrategy = \"drop\")\n",
    "\n",
    "# Check \"ALS\" Model created\n",
    "type(als)"
   ]
  },
  {
   "cell_type": "code",
   "execution_count": 14,
   "metadata": {},
   "outputs": [],
   "source": [
    "# tuning ALS model thru Spark\n",
    "\n",
    "from pyspark.ml.evaluation import RegressionEvaluator\n",
    "from pyspark.ml.tuning import ParamGridBuilder, CrossValidator"
   ]
  },
  {
   "cell_type": "code",
   "execution_count": 15,
   "metadata": {},
   "outputs": [
    {
     "name": "stdout",
     "output_type": "stream",
     "text": [
      "Num models to be tested:  16\n"
     ]
    }
   ],
   "source": [
    "# Add hyperparameters and their respective values to param_grid\n",
    "param_grid = ParamGridBuilder() \\\n",
    "            .addGrid(als.rank, [10, 50, 100, 150]) \\\n",
    "            .addGrid(als.regParam, [.01, .05, .1, .15]) \\\n",
    "            .build()\n",
    "\n",
    "# Define evaluater as RMSE and print the length of evaluater\n",
    "evaluator = RegressionEvaluator(metricName=\"rmse\", labelCol=\"rating\",predictionCol=\"prediction\")\n",
    "print(\"Num models to be tested: \", len(param_grid))"
   ]
  },
  {
   "cell_type": "code",
   "execution_count": 16,
   "metadata": {},
   "outputs": [
    {
     "name": "stdout",
     "output_type": "stream",
     "text": [
      "CrossValidator_e6191336007d\n"
     ]
    }
   ],
   "source": [
    "# Build cross validation using CrossValidator\n",
    "cv = CrossValidator(estimator=als, estimatorParamMaps=param_grid, evaluator=evaluator, numFolds=5)\n",
    "\n",
    "# Confirm cv was built\n",
    "print(cv)"
   ]
  },
  {
   "cell_type": "code",
   "execution_count": 17,
   "metadata": {},
   "outputs": [],
   "source": [
    "# Checking best model and best model parameters\n",
    "\n",
    "# fir cross validator to the \"train\" dataset\n",
    "model = cv.fit(train)\n",
    "\n",
    "# Extract best model from the cv model above\n",
    "best_model = model.bestModel"
   ]
  },
  {
   "cell_type": "code",
   "execution_count": 18,
   "metadata": {},
   "outputs": [
    {
     "name": "stdout",
     "output_type": "stream",
     "text": [
      "<class 'pyspark.ml.recommendation.ALSModel'>\n",
      "**Best Model**\n",
      "  Rank: 150\n",
      "  MaxIter: 10\n",
      "  RegParam: 0.15\n"
     ]
    }
   ],
   "source": [
    "# Print best_model\n",
    "print(type(best_model))\n",
    "\n",
    "# Complete the code below to extract the ALS model parameters\n",
    "print(\"**Best Model**\")\n",
    "\n",
    "# # Print \"Rank\"\n",
    "print(\"  Rank:\", best_model._java_obj.parent().getRank())\n",
    "\n",
    "# Print \"MaxIter\"\n",
    "print(\"  MaxIter:\", best_model._java_obj.parent().getMaxIter())\n",
    "\n",
    "# Print \"RegParam\"\n",
    "print(\"  RegParam:\", best_model._java_obj.parent().getRegParam())"
   ]
  },
  {
   "cell_type": "code",
   "execution_count": 19,
   "metadata": {},
   "outputs": [
    {
     "name": "stdout",
     "output_type": "stream",
     "text": [
      "0.8686158604174674\n"
     ]
    }
   ],
   "source": [
    "# View the predictions\n",
    "test_predictions = best_model.transform(test)\n",
    "RMSE = evaluator.evaluate(test_predictions)\n",
    "print(RMSE)"
   ]
  },
  {
   "cell_type": "code",
   "execution_count": 20,
   "metadata": {},
   "outputs": [
    {
     "name": "stdout",
     "output_type": "stream",
     "text": [
      "+------+-------+------+----------+\n",
      "|userId|movieId|rating|prediction|\n",
      "+------+-------+------+----------+\n",
      "|   597|    471|   2.0|  4.138487|\n",
      "|   436|    471|   3.0| 3.5936015|\n",
      "|   218|    471|   4.0| 3.0037208|\n",
      "|   387|    471|   3.0| 3.0054257|\n",
      "|   217|    471|   2.0| 2.7966945|\n",
      "|   287|    471|   4.5| 2.9292014|\n",
      "|    32|    471|   3.0|  3.704304|\n",
      "|   260|    471|   4.5| 3.6457002|\n",
      "|   104|    471|   4.5| 3.5362327|\n",
      "|   111|   1088|   3.0| 3.2533147|\n",
      "|   177|   1088|   3.5|  3.539239|\n",
      "|    41|   1088|   1.5| 2.6881957|\n",
      "|   387|   1088|   1.5| 2.6142406|\n",
      "|   594|   1088|   4.5|  4.434395|\n",
      "|   307|   1088|   3.0| 2.6732225|\n",
      "|   509|   1088|   3.0| 3.1198432|\n",
      "|   104|   1088|   3.0|  3.670084|\n",
      "|   268|   1238|   5.0| 3.7642636|\n",
      "|   462|   1238|   3.5| 3.5396466|\n",
      "|   307|   1342|   2.0| 2.2041955|\n",
      "+------+-------+------+----------+\n",
      "only showing top 20 rows\n",
      "\n"
     ]
    }
   ],
   "source": [
    "test_predictions.show()"
   ]
  },
  {
   "cell_type": "code",
   "execution_count": 21,
   "metadata": {},
   "outputs": [
    {
     "name": "stdout",
     "output_type": "stream",
     "text": [
      "+------+--------------------+\n",
      "|userId|     recommendations|\n",
      "+------+--------------------+\n",
      "|   471|[{3379, 4.764641}...|\n",
      "|   463|[{3379, 4.9576507...|\n",
      "|   496|[{3379, 4.4238644...|\n",
      "|   148|[{33649, 4.490478...|\n",
      "|   540|[{3379, 5.322866}...|\n",
      "|   392|[{3379, 4.6531377...|\n",
      "|   243|[{86237, 5.608533...|\n",
      "|    31|[{33649, 5.003610...|\n",
      "|   516|[{4429, 4.815257}...|\n",
      "|   580|[{3379, 4.720453}...|\n",
      "+------+--------------------+\n",
      "\n"
     ]
    }
   ],
   "source": [
    "# Generate n Recommendations for all users\n",
    "nrecommendations = best_model.recommendForAllUsers(10)\n",
    "nrecommendations.limit(10).show()"
   ]
  },
  {
   "cell_type": "code",
   "execution_count": 22,
   "metadata": {},
   "outputs": [
    {
     "name": "stdout",
     "output_type": "stream",
     "text": [
      "+------+-------+---------+\n",
      "|userId|movieId|   rating|\n",
      "+------+-------+---------+\n",
      "|   471|   3379| 4.764641|\n",
      "|   471| 171495| 4.499823|\n",
      "|   471|  33649|4.4932084|\n",
      "|   471|   7096| 4.490959|\n",
      "|   471|  86781|4.4882207|\n",
      "|   471|  78836|  4.43601|\n",
      "|   471|   8477|4.4281893|\n",
      "|   471|  26073| 4.403054|\n",
      "|   471| 179135| 4.403054|\n",
      "|   471| 117531| 4.403054|\n",
      "+------+-------+---------+\n",
      "\n"
     ]
    }
   ],
   "source": [
    "nrecommendations = nrecommendations\\\n",
    "    .withColumn(\"rec_exp\", explode(\"recommendations\"))\\\n",
    "    .select('userId', col(\"rec_exp.movieId\"), col(\"rec_exp.rating\"))\n",
    "\n",
    "nrecommendations.limit(10).show()"
   ]
  },
  {
   "cell_type": "code",
   "execution_count": 23,
   "metadata": {},
   "outputs": [
    {
     "name": "stdout",
     "output_type": "stream",
     "text": [
      "+-------+------+---------+--------------------+--------------------+\n",
      "|movieId|userId|   rating|               title|              genres|\n",
      "+-------+------+---------+--------------------+--------------------+\n",
      "|  67618|   100| 5.065317|Strictly Sexual (...|Comedy|Drama|Romance|\n",
      "|  33649|   100|5.0045204|  Saving Face (2004)|Comedy|Drama|Romance|\n",
      "|   3379|   100|4.9994802| On the Beach (1959)|               Drama|\n",
      "|  74282|   100| 4.909474|Anne of Green Gab...|Children|Drama|Ro...|\n",
      "|  42730|   100|4.9013314|   Glory Road (2006)|               Drama|\n",
      "| 171495|   100|4.8605995|              Cosmos|  (no genres listed)|\n",
      "|   7121|   100| 4.848839|   Adam's Rib (1949)|      Comedy|Romance|\n",
      "|   7071|   100|4.8485265|Woman Under the I...|               Drama|\n",
      "|  84273|   100|4.8485265|Zeitgeist: Moving...|         Documentary|\n",
      "|  26073|   100|4.8485265|Human Condition I...|           Drama|War|\n",
      "+-------+------+---------+--------------------+--------------------+\n",
      "\n"
     ]
    }
   ],
   "source": [
    "nrecommendations.join(movies, on='movieId').filter('userId = 100').show()"
   ]
  },
  {
   "cell_type": "code",
   "execution_count": 24,
   "metadata": {},
   "outputs": [
    {
     "name": "stdout",
     "output_type": "stream",
     "text": [
      "+-------+------+------+--------------------+--------------------+\n",
      "|movieId|userId|rating|               title|              genres|\n",
      "+-------+------+------+--------------------+--------------------+\n",
      "|   1101|   100|   5.0|      Top Gun (1986)|      Action|Romance|\n",
      "|   1958|   100|   5.0|Terms of Endearme...|        Comedy|Drama|\n",
      "|   2423|   100|   5.0|Christmas Vacatio...|              Comedy|\n",
      "|   4041|   100|   5.0|Officer and a Gen...|       Drama|Romance|\n",
      "|   5620|   100|   5.0|Sweet Home Alabam...|      Comedy|Romance|\n",
      "|    368|   100|   4.5|     Maverick (1994)|Adventure|Comedy|...|\n",
      "|    934|   100|   4.5|Father of the Bri...|              Comedy|\n",
      "|    539|   100|   4.5|Sleepless in Seat...|Comedy|Drama|Romance|\n",
      "|     16|   100|   4.5|       Casino (1995)|         Crime|Drama|\n",
      "|    553|   100|   4.5|    Tombstone (1993)|Action|Drama|Western|\n",
      "+-------+------+------+--------------------+--------------------+\n",
      "\n"
     ]
    }
   ],
   "source": [
    "ratings.join(movies, on='movieId').filter('userId = 100').sort('rating', ascending=False).limit(10).show()"
   ]
  }
 ],
 "metadata": {
  "kernelspec": {
   "display_name": "Python 3",
   "language": "python",
   "name": "python3"
  },
  "language_info": {
   "codemirror_mode": {
    "name": "ipython",
    "version": 3
   },
   "file_extension": ".py",
   "mimetype": "text/x-python",
   "name": "python",
   "nbconvert_exporter": "python",
   "pygments_lexer": "ipython3",
   "version": "3.8.5"
  }
 },
 "nbformat": 4,
 "nbformat_minor": 4
}
